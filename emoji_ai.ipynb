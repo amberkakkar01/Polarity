{
 "cells": [
  {
   "cell_type": "code",
   "execution_count": 6,
   "metadata": {},
   "outputs": [
    {
     "name": "stdout",
     "output_type": "stream",
     "text": [
      "Enter the sentence: hy\n",
      "Neutral 🤐\n"
     ]
    }
   ],
   "source": [
    "from textblob import TextBlob\n",
    "import emoji\n",
    "\n",
    "y=input(\"Enter the sentence: \")\n",
    "\n",
    "edu = TextBlob(y)\n",
    "x=edu.sentiment.polarity\n",
    "if x<0:\n",
    "    print(\"Negative sentence, demotivating\",emoji.emojize(\":disappointed_face:\"))\n",
    "    \n",
    "elif x==0:\n",
    "    print(\"Neutral\",emoji.emojize(\":zipper-mouth_face:\"))\n",
    "    \n",
    "elif x>0 and x<=1:\n",
    "    print(\"Positive, Joyfull\" ,emoji.emojize(\":grinning_face_with_big_eyes:\"))"
   ]
  },
  {
   "cell_type": "code",
   "execution_count": null,
   "metadata": {},
   "outputs": [],
   "source": []
  },
  {
   "cell_type": "code",
   "execution_count": null,
   "metadata": {},
   "outputs": [],
   "source": []
  }
 ],
 "metadata": {
  "kernelspec": {
   "display_name": "Python 3",
   "language": "python",
   "name": "python3"
  },
  "language_info": {
   "codemirror_mode": {
    "name": "ipython",
    "version": 3
   },
   "file_extension": ".py",
   "mimetype": "text/x-python",
   "name": "python",
   "nbconvert_exporter": "python",
   "pygments_lexer": "ipython3",
   "version": "3.7.6"
  }
 },
 "nbformat": 4,
 "nbformat_minor": 4
}
